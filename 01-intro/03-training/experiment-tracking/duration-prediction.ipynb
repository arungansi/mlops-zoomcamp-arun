{
 "cells": [
  {
   "cell_type": "code",
   "execution_count": null,
   "id": "ff678d03-4b78-49cc-af0d-ba341ee8624f",
   "metadata": {},
   "outputs": [],
   "source": [
    "!python -V"
   ]
  },
  {
   "cell_type": "code",
   "execution_count": null,
   "id": "72f842b8-dad9-4c85-b13f-b6b9434dc372",
   "metadata": {},
   "outputs": [],
   "source": [
    "import pandas as pd\n",
    "import seaborn as sns\n",
    "import matplotlib.pyplot as plt\n",
    "from sklearn.feature_extraction import DictVectorizer\n",
    "from sklearn.linear_model import LinearRegression, Lasso, Ridge\n",
    "from sklearn.metrics import mean_squared_error\n",
    "import pickle\n",
    "import mlflow"
   ]
  },
  {
   "cell_type": "code",
   "execution_count": null,
   "id": "3fa98109",
   "metadata": {},
   "outputs": [],
   "source": [
    "mlflow.set_tracking_uri(uri=\"http://127.0.0.1:5000\")"
   ]
  },
  {
   "cell_type": "code",
   "execution_count": null,
   "id": "c26cf0ca",
   "metadata": {},
   "outputs": [],
   "source": [
    "mlflow.set_experiment(\"nyc-taxi-exp\")"
   ]
  },
  {
   "cell_type": "code",
   "execution_count": null,
   "id": "c6dcc173-99de-4903-9152-c6a90003be7d",
   "metadata": {},
   "outputs": [],
   "source": [
    "df = pd.read_parquet('https://d37ci6vzurychx.cloudfront.net/trip-data/green_tripdata_2021-01.parquet')"
   ]
  },
  {
   "cell_type": "code",
   "execution_count": null,
   "id": "72599196-9855-409c-91e4-4fbc7d969a96",
   "metadata": {},
   "outputs": [],
   "source": [
    "df.head()"
   ]
  },
  {
   "cell_type": "code",
   "execution_count": null,
   "id": "1806f1ad-ed12-4362-8530-a10b38784522",
   "metadata": {},
   "outputs": [],
   "source": [
    "df['duration'] = df.lpep_dropoff_datetime - df.lpep_pickup_datetime"
   ]
  },
  {
   "cell_type": "code",
   "execution_count": null,
   "id": "55f2c86d-7c83-47ab-a2d3-4b4d335a9238",
   "metadata": {},
   "outputs": [],
   "source": [
    "df"
   ]
  },
  {
   "cell_type": "code",
   "execution_count": null,
   "id": "b83d4f7b-6636-4c45-9ccc-d9b253d079b5",
   "metadata": {},
   "outputs": [],
   "source": [
    "td = df.duration.iloc[0]"
   ]
  },
  {
   "cell_type": "code",
   "execution_count": null,
   "id": "e3dc2191-fc1f-4a80-a286-e397f6e0e68d",
   "metadata": {},
   "outputs": [],
   "source": [
    "td"
   ]
  },
  {
   "cell_type": "code",
   "execution_count": null,
   "id": "f000a876-2008-40f3-9c20-7ea195bec3c6",
   "metadata": {},
   "outputs": [],
   "source": [
    "td.total_seconds()"
   ]
  },
  {
   "cell_type": "code",
   "execution_count": null,
   "id": "bb445de8-4fd7-44e2-ac9b-7ec12480ce90",
   "metadata": {},
   "outputs": [],
   "source": [
    "df.duration = df.duration.apply(lambda td: td.total_seconds()/60)"
   ]
  },
  {
   "cell_type": "code",
   "execution_count": null,
   "id": "f2ea1ec8-bf1a-45c1-ae28-c8e4df80ccba",
   "metadata": {},
   "outputs": [],
   "source": [
    "sns.distplot(df.duration)"
   ]
  },
  {
   "cell_type": "code",
   "execution_count": null,
   "id": "51e884e9-9dfd-4d9a-a52a-890b8d5f81c0",
   "metadata": {},
   "outputs": [],
   "source": [
    "df.duration.describe(percentiles=[0.9,0.95,0.96,0.97,0.98,0.99,1.0])"
   ]
  },
  {
   "cell_type": "code",
   "execution_count": null,
   "id": "ba997efb-ed25-48e6-8bdf-c7357c724a61",
   "metadata": {},
   "outputs": [],
   "source": [
    "((df.duration >=1) & (df.duration <=60)).mean()"
   ]
  },
  {
   "cell_type": "code",
   "execution_count": null,
   "id": "7e0bc989-980a-409d-8d2a-c73f5ef19a9f",
   "metadata": {},
   "outputs": [],
   "source": [
    "df_avgtrips = df[(df.duration >=1) & (df.duration <=60)]"
   ]
  },
  {
   "cell_type": "code",
   "execution_count": null,
   "id": "9a625506-83df-417c-9895-25a176116f7d",
   "metadata": {},
   "outputs": [],
   "source": [
    "df_avgtrips.dtypes"
   ]
  },
  {
   "cell_type": "code",
   "execution_count": null,
   "id": "b69a4e1d-1e57-4ff7-8be1-285a68b58872",
   "metadata": {},
   "outputs": [],
   "source": [
    "categorical = ['PULocationID','DOLocationID']\n",
    "numerical = ['trip_distance']"
   ]
  },
  {
   "cell_type": "code",
   "execution_count": null,
   "id": "07cc8631-92ef-4c2b-aec7-9916e33e1aa8",
   "metadata": {},
   "outputs": [],
   "source": [
    "df_avgtrips[categorical] = df_avgtrips[categorical].astype(str)"
   ]
  },
  {
   "cell_type": "code",
   "execution_count": null,
   "id": "5460a43c-a30b-413a-b5ec-f8e8c7ea03c6",
   "metadata": {},
   "outputs": [],
   "source": [
    "df_avgtrips.dtypes"
   ]
  },
  {
   "cell_type": "code",
   "execution_count": null,
   "id": "3c678cd2-0080-4470-bbed-6b7c49c4849f",
   "metadata": {},
   "outputs": [],
   "source": [
    "df_avgtrips[categorical + numerical].iloc[:10].to_dict(orient='records')"
   ]
  },
  {
   "cell_type": "code",
   "execution_count": null,
   "id": "488f250c-d65d-4127-9f70-1a351286315e",
   "metadata": {},
   "outputs": [],
   "source": [
    "train_dicts = df_avgtrips[categorical + numerical].to_dict(orient='records')"
   ]
  },
  {
   "cell_type": "code",
   "execution_count": null,
   "id": "b0838ee6-477c-4427-8774-395231b501ad",
   "metadata": {},
   "outputs": [],
   "source": [
    "dv = DictVectorizer()\n",
    "X_train = dv.fit_transform(train_dicts)"
   ]
  },
  {
   "cell_type": "code",
   "execution_count": null,
   "id": "213be911-526b-46f4-b72d-e1e80501f46a",
   "metadata": {},
   "outputs": [],
   "source": [
    "X_train"
   ]
  },
  {
   "cell_type": "code",
   "execution_count": null,
   "id": "7162211b-d283-4ee8-abba-6e2a6fb111b7",
   "metadata": {},
   "outputs": [],
   "source": [
    "dv.feature_names_"
   ]
  },
  {
   "cell_type": "code",
   "execution_count": null,
   "id": "75bb54f9-a27b-4a03-8741-1b4020728585",
   "metadata": {},
   "outputs": [],
   "source": [
    "target = 'duration'\n",
    "y_train = df_avgtrips[target].values"
   ]
  },
  {
   "cell_type": "code",
   "execution_count": null,
   "id": "f1a045f7-194d-489b-b8ea-4ddf18d23787",
   "metadata": {},
   "outputs": [],
   "source": [
    "y_train"
   ]
  },
  {
   "cell_type": "code",
   "execution_count": null,
   "id": "40932517-a8d2-4592-8cc8-54fbab6e3235",
   "metadata": {},
   "outputs": [],
   "source": [
    "lr = LinearRegression()\n",
    "lr.fit(X_train,y_train)"
   ]
  },
  {
   "cell_type": "code",
   "execution_count": null,
   "id": "95187442-801e-405f-952c-d21b4917ca02",
   "metadata": {},
   "outputs": [],
   "source": [
    "y_pred = lr.predict(X_train)"
   ]
  },
  {
   "cell_type": "code",
   "execution_count": null,
   "id": "edcb9c3e-4e23-41bc-a7b6-23ebac4c6063",
   "metadata": {},
   "outputs": [],
   "source": [
    "sns.distplot(y_pred, label='prediction')"
   ]
  },
  {
   "cell_type": "code",
   "execution_count": null,
   "id": "cc33768d-4414-45e5-9535-55fe6370936c",
   "metadata": {},
   "outputs": [],
   "source": [
    "sns.distplot(y_train, label='actual')"
   ]
  },
  {
   "cell_type": "code",
   "execution_count": null,
   "id": "ff01a4ec-37b5-49e6-8761-92fc6ebedd18",
   "metadata": {},
   "outputs": [],
   "source": [
    "sns.distplot(y_pred, label='prediction')\n",
    "sns.distplot(y_train, label='actual')\n",
    "plt.legend()"
   ]
  },
  {
   "cell_type": "code",
   "execution_count": null,
   "id": "1d576223-baab-4859-bc37-cc9ed1bc0abf",
   "metadata": {},
   "outputs": [],
   "source": [
    "mean_squared_error(y_train, y_pred, squared = False)\n",
    "#squared = False to get root mean squared error value"
   ]
  },
  {
   "cell_type": "code",
   "execution_count": null,
   "id": "01d9c347-845d-4b5c-9cf9-bbf5ed5fbd8f",
   "metadata": {},
   "outputs": [],
   "source": [
    "def read_dataFrame(filename):\n",
    "    df = pd.read_parquet(filename)\n",
    "    df['duration'] = df.lpep_dropoff_datetime - df.lpep_pickup_datetime\n",
    "    df.duration = df.duration.apply(lambda td: td.total_seconds()/60)\n",
    "    df = df[(df.duration >=1) & (df.duration <=60)]\n",
    "    categorical = ['PULocationID','DOLocationID']\n",
    "    df[categorical] = df[categorical].astype(str)\n",
    "    \n",
    "    return df"
   ]
  },
  {
   "cell_type": "code",
   "execution_count": null,
   "id": "61e4f5d5-709c-4baa-8736-3e620734e030",
   "metadata": {},
   "outputs": [],
   "source": [
    "df_train = read_dataFrame('https://d37ci6vzurychx.cloudfront.net/trip-data/green_tripdata_2021-01.parquet')\n",
    "df_val = read_dataFrame('https://d37ci6vzurychx.cloudfront.net/trip-data/green_tripdata_2021-02.parquet')"
   ]
  },
  {
   "cell_type": "code",
   "execution_count": null,
   "id": "dd7d2ba0",
   "metadata": {},
   "outputs": [],
   "source": [
    "\n",
    "df_val.dtypes"
   ]
  },
  {
   "cell_type": "code",
   "execution_count": null,
   "id": "c9bd6d3d-3c89-4d4f-9797-7add1c3843c9",
   "metadata": {},
   "outputs": [],
   "source": [
    "categorical = ['PULocationID','DOLocationID']\n",
    "numerical = ['trip_distance']\n",
    "\n",
    "dv = DictVectorizer()"
   ]
  },
  {
   "cell_type": "code",
   "execution_count": null,
   "id": "39907306",
   "metadata": {},
   "outputs": [],
   "source": [
    "train_dicts = df_train[categorical + numerical].to_dict(orient='records')\n",
    "X_train = dv.fit_transform(train_dicts)\n",
    "\n",
    "val_dicts = df_val[categorical + numerical].to_dict(orient='records')\n",
    "X_val = dv.transform(val_dicts)\n"
   ]
  },
  {
   "cell_type": "code",
   "execution_count": null,
   "id": "adea9e53",
   "metadata": {},
   "outputs": [],
   "source": [
    "target = 'duration'\n",
    "y_train = df_train[target].values\n",
    "y_val = df_val[target].values"
   ]
  },
  {
   "cell_type": "code",
   "execution_count": null,
   "id": "b91f3fbf",
   "metadata": {},
   "outputs": [],
   "source": [
    "lr1 = Ridge(alpha=10)\n",
    "lr1.fit(X_train,y_train)\n",
    "\n",
    "y_pred = lr1.predict(X_val)\n",
    "\n",
    "mean_squared_error(y_val, y_pred, squared=False)\n"
   ]
  },
  {
   "cell_type": "code",
   "execution_count": null,
   "id": "cc7c76a8",
   "metadata": {},
   "outputs": [],
   "source": [
    "with open('./models/lin_reg.bin','wb') as f:\n",
    "    pickle.dump((dv,lr1), f)"
   ]
  },
  {
   "cell_type": "code",
   "execution_count": null,
   "id": "ec900373",
   "metadata": {},
   "outputs": [],
   "source": [
    "with mlflow.start_run():\n",
    "    mlflow.set_tag('developer', 'arungansi')\n",
    "    \n",
    "    mlflow.log_param('train_data_path','green_tripdata_2021-01.parquet')\n",
    "    mlflow.log_param('val_data_path','green_tripdata_2021-02.parquet')\n",
    "    # mlflow.log_input('train_data_path','green_tripdata_2021-01.parquet')\n",
    "    # mlflow.log_input('train_data_path','green_tripdata_2021-01.parquet')\n",
    "    \n",
    "    alpha = 10\n",
    "    mlflow.log_param('alpha',alpha)\n",
    "    lr1 = Ridge(alpha)\n",
    "    lr1.fit(X_train,y_train)\n",
    "\n",
    "    y_pred = lr1.predict(X_val)\n",
    "\n",
    "    rmse = mean_squared_error(y_val, y_pred, squared=False)\n",
    "    mlflow.log_metric('rmse',rmse)\n",
    "    \n",
    "    mlflow.log_artifact(local_path='models/lin_reg.bin', artifact_path='models_pickle')"
   ]
  },
  {
   "cell_type": "code",
   "execution_count": null,
   "id": "11684470",
   "metadata": {},
   "outputs": [],
   "source": [
    "import xgboost as xgb\n"
   ]
  },
  {
   "cell_type": "code",
   "execution_count": null,
   "id": "ad6e471a",
   "metadata": {},
   "outputs": [],
   "source": [
    "from hyperopt import fmin, tpe, hp, STATUS_OK, Trials\n",
    "from hyperopt.pyll import scope"
   ]
  },
  {
   "cell_type": "code",
   "execution_count": null,
   "id": "ea0fdfb0",
   "metadata": {},
   "outputs": [],
   "source": [
    "train = xgb.DMatrix(X_train, label=y_train)\n",
    "valid = xgb.DMatrix(X_val, label=y_val)"
   ]
  },
  {
   "cell_type": "code",
   "execution_count": null,
   "id": "570b2cde",
   "metadata": {},
   "outputs": [],
   "source": [
    "def objective(params):\n",
    "    with mlflow.start_run():\n",
    "        mlflow.set_tag(\"model\", \"xgboost\")\n",
    "        mlflow.log_params(params)\n",
    "        booster = xgb.train(\n",
    "            params=params,\n",
    "            dtrain=train,\n",
    "            num_boost_round=1000,\n",
    "            evals=[(valid, 'validation')],\n",
    "            early_stopping_rounds=50\n",
    "        )\n",
    "        y_pred = booster.predict(valid)\n",
    "        rmse = mean_squared_error(y_val, y_pred, squared=False)\n",
    "        mlflow.log_metric(\"rmse\", rmse)\n",
    "\n",
    "    return {'loss': rmse, 'status': STATUS_OK}"
   ]
  },
  {
   "cell_type": "code",
   "execution_count": null,
   "id": "3126cb45",
   "metadata": {},
   "outputs": [],
   "source": [
    "search_space = {\n",
    "    'max_depth': scope.int(hp.quniform('max_depth', 4, 100, 1)),\n",
    "    'learning_rate': hp.loguniform('learning_rate', -3, 0),\n",
    "    'reg_alpha': hp.loguniform('reg_alpha', -5, -1),\n",
    "    'reg_lambda': hp.loguniform('reg_lambda', -6, -1),\n",
    "    'min_child_weight': hp.loguniform('min_child_weight', -1, 3),\n",
    "    'objective': 'reg:linear',\n",
    "    'seed': 42\n",
    "}\n",
    "\n",
    "best_result = fmin(\n",
    "    fn=objective,\n",
    "    space=search_space,\n",
    "    algo=tpe.suggest,\n",
    "    max_evals=50,\n",
    "    trials=Trials()\n",
    ")"
   ]
  },
  {
   "cell_type": "markdown",
   "id": "2baafdc6",
   "metadata": {},
   "source": [
    "Best Parameters after 1000 runs is the one with the lowest rmse\n",
    "Choose the hyper paramters for that run and train the model again at the end of the hypertuning run above"
   ]
  },
  {
   "cell_type": "code",
   "execution_count": null,
   "id": "71bc0e70",
   "metadata": {},
   "outputs": [],
   "source": [
    "params = {\n",
    "    'learning_rate':0.07755880320609634,\n",
    "    'max_depth':10,\n",
    "    'min_child_weight':3.7126270987128547,\n",
    "    'objective':'reg:linear',\n",
    "    'reg_alpha':0.028088122108329037,\n",
    "    'reg_lambda':0.013125534079775656,\n",
    "    'seed':42\n",
    "}"
   ]
  },
  {
   "cell_type": "code",
   "execution_count": null,
   "id": "b9f97fca",
   "metadata": {},
   "outputs": [],
   "source": [
    "mlflow.xgboost.autolog()"
   ]
  },
  {
   "cell_type": "code",
   "execution_count": null,
   "id": "d7c1e1a3",
   "metadata": {},
   "outputs": [],
   "source": [
    "booster = xgb.train(\n",
    "    params=params,\n",
    "    dtrain=train,\n",
    "    num_boost_round=1000,\n",
    "    evals=[(valid, 'validation')],\n",
    "    early_stopping_rounds=50\n",
    ")"
   ]
  },
  {
   "cell_type": "code",
   "execution_count": null,
   "id": "8c4fe94c",
   "metadata": {},
   "outputs": [],
   "source": [
    "mlflow.xgboost.autolog(disable=True)"
   ]
  },
  {
   "cell_type": "code",
   "execution_count": null,
   "id": "5d035378",
   "metadata": {},
   "outputs": [],
   "source": [
    "with mlflow.start_run():\n",
    "    params = {\n",
    "    'learning_rate':0.07755880320609634,\n",
    "    'max_depth':10,\n",
    "    'min_child_weight':3.7126270987128547,\n",
    "    'objective':'reg:linear',\n",
    "    'reg_alpha':0.028088122108329037,\n",
    "    'reg_lambda':0.013125534079775656,\n",
    "    'seed':42\n",
    "    }\n",
    "    \n",
    "    mlflow.log_params(params)\n",
    "    \n",
    "    booster = xgb.train(\n",
    "    params=params,\n",
    "    dtrain=train,\n",
    "    num_boost_round=1000,\n",
    "    evals=[(valid, 'validation')],\n",
    "    early_stopping_rounds=50\n",
    "    )\n",
    "    \n",
    "    y_pred = booster.predict(valid)\n",
    "    rmse = mean_squared_error(y_val,y_pred,squared=False)\n",
    "    mlflow.log_metric('rmse',rmse)\n",
    "    \n",
    "    with open(\"models/preprocessor.b\", \"wb\") as f_out:\n",
    "        pickle.dump(dv,f_out)\n",
    "        \n",
    "    mlflow.log_artifact(\"models/preprocessor.b\",artifact_path='preprocessor')\n",
    "    \n",
    "    mlflow.xgboost.log_model(booster,artifact_path=\"models_mlflow\")\n",
    "    "
   ]
  },
  {
   "cell_type": "code",
   "execution_count": null,
   "id": "088a409c",
   "metadata": {},
   "outputs": [],
   "source": [
    "logged_model = 'runs:/d031ab694f7f4a76988537cd5f7594ce/models_mlflow'\n",
    "\n",
    "# Load model as a PyFuncModel.\n",
    "loaded_model = mlflow.pyfunc.load_model(logged_model)\n",
    "\n"
   ]
  },
  {
   "cell_type": "code",
   "execution_count": null,
   "id": "3a6707ca",
   "metadata": {},
   "outputs": [],
   "source": [
    "loaded_model"
   ]
  },
  {
   "cell_type": "code",
   "execution_count": null,
   "id": "e3161ccf",
   "metadata": {},
   "outputs": [],
   "source": [
    "X_val"
   ]
  },
  {
   "cell_type": "code",
   "execution_count": null,
   "id": "26581769",
   "metadata": {},
   "outputs": [],
   "source": [
    "# Predict on a Pandas DataFrame.\n",
    "#loaded_model.predict(pd.DataFrame(<data>))"
   ]
  },
  {
   "cell_type": "code",
   "execution_count": 45,
   "id": "7489df83",
   "metadata": {},
   "outputs": [
    {
     "data": {
      "application/vnd.jupyter.widget-view+json": {
       "model_id": "34e093a2479540c399fa8949be51e94f",
       "version_major": 2,
       "version_minor": 0
      },
      "text/plain": [
       "Downloading artifacts:   0%|          | 0/9 [00:00<?, ?it/s]"
      ]
     },
     "metadata": {},
     "output_type": "display_data"
    },
    {
     "name": "stderr",
     "output_type": "stream",
     "text": [
      "/home/codespace/anaconda3/envs/exp-tracking/lib/python3.12/site-packages/xgboost/core.py:160: UserWarning: [01:37:52] WARNING: /workspace/src/objective/regression_obj.cu:209: reg:linear is now deprecated in favor of reg:squarederror.\n",
      "  warnings.warn(smsg, UserWarning)\n"
     ]
    }
   ],
   "source": [
    "#2nd method\n",
    "\n",
    "xgboost_loaded_model = mlflow.xgboost.load_model(logged_model)"
   ]
  },
  {
   "cell_type": "code",
   "execution_count": 46,
   "id": "8fdeb528",
   "metadata": {},
   "outputs": [
    {
     "data": {
      "text/plain": [
       "<xgboost.core.Booster at 0x799b627b3500>"
      ]
     },
     "execution_count": 46,
     "metadata": {},
     "output_type": "execute_result"
    }
   ],
   "source": [
    "xgboost_loaded_model"
   ]
  },
  {
   "cell_type": "code",
   "execution_count": 47,
   "id": "35687caf",
   "metadata": {},
   "outputs": [],
   "source": [
    "y_pred = xgboost_loaded_model.predict(valid)"
   ]
  },
  {
   "cell_type": "code",
   "execution_count": 48,
   "id": "9c9ac9a6",
   "metadata": {},
   "outputs": [
    {
     "data": {
      "text/plain": [
       "array([15.088369 ,  6.6498303, 17.523094 , ..., 12.988363 ,  6.5416555,\n",
       "        8.390461 ], dtype=float32)"
      ]
     },
     "execution_count": 48,
     "metadata": {},
     "output_type": "execute_result"
    }
   ],
   "source": [
    "y_pred"
   ]
  },
  {
   "cell_type": "code",
   "execution_count": null,
   "id": "602c22f6",
   "metadata": {},
   "outputs": [],
   "source": []
  }
 ],
 "metadata": {
  "kernelspec": {
   "display_name": "Python 3 (ipykernel)",
   "language": "python",
   "name": "python3"
  },
  "language_info": {
   "codemirror_mode": {
    "name": "ipython",
    "version": 3
   },
   "file_extension": ".py",
   "mimetype": "text/x-python",
   "name": "python",
   "nbconvert_exporter": "python",
   "pygments_lexer": "ipython3",
   "version": "3.1.undefined"
  }
 },
 "nbformat": 4,
 "nbformat_minor": 5
}
