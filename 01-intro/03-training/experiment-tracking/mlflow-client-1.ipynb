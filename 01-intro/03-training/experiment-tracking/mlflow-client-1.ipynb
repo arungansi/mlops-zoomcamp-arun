{
 "cells": [
  {
   "cell_type": "code",
   "execution_count": 1,
   "metadata": {},
   "outputs": [],
   "source": [
    "from mlflow.tracking import MlflowClient"
   ]
  },
  {
   "cell_type": "code",
   "execution_count": 2,
   "metadata": {},
   "outputs": [],
   "source": [
    "mlflow_tracking_uri = \"http://127.0.0.1:5000\""
   ]
  },
  {
   "cell_type": "code",
   "execution_count": 3,
   "metadata": {},
   "outputs": [],
   "source": [
    "client = MlflowClient(tracking_uri=mlflow_tracking_uri)"
   ]
  },
  {
   "cell_type": "code",
   "execution_count": 5,
   "metadata": {},
   "outputs": [
    {
     "data": {
      "text/plain": [
       "'3'"
      ]
     },
     "execution_count": 5,
     "metadata": {},
     "output_type": "execute_result"
    }
   ],
   "source": [
    "client.create_experiment('my-trial-experiment')"
   ]
  },
  {
   "cell_type": "code",
   "execution_count": 4,
   "metadata": {},
   "outputs": [],
   "source": [
    "from mlflow.entities import ViewType\n",
    "\n",
    "runs = client.search_runs(\n",
    "    experiment_ids='2',\n",
    "    filter_string='metrics.rmse <= 6.1478',\n",
    "    run_view_type=ViewType.ACTIVE_ONLY,\n",
    "    max_results=5,\n",
    "    order_by=[\"metrics.rmse ASC\"]\n",
    ")"
   ]
  },
  {
   "cell_type": "code",
   "execution_count": 5,
   "metadata": {},
   "outputs": [
    {
     "data": {
      "text/plain": [
       "[<Run: data=<RunData: metrics={'rmse': 6.1477211725611305}, params={'learning_rate': '0.07755880320609634',\n",
       "  'max_depth': '10',\n",
       "  'min_child_weight': '3.7126270987128547',\n",
       "  'objective': 'reg:linear',\n",
       "  'reg_alpha': '0.028088122108329037',\n",
       "  'reg_lambda': '0.013125534079775656',\n",
       "  'seed': '42'}, tags={'mlflow.log-model.history': '[{\"run_id\": \"d031ab694f7f4a76988537cd5f7594ce\", '\n",
       "                              '\"artifact_path\": \"models_mlflow\", '\n",
       "                              '\"utc_time_created\": \"2024-05-25 '\n",
       "                              '01:27:29.975196\", \"flavors\": {\"python_function\": '\n",
       "                              '{\"loader_module\": \"mlflow.xgboost\", '\n",
       "                              '\"python_version\": \"3.12.3\", \"data\": \"model.xgb\", '\n",
       "                              '\"env\": {\"conda\": \"conda.yaml\", \"virtualenv\": '\n",
       "                              '\"python_env.yaml\"}}, \"xgboost\": {\"xgb_version\": '\n",
       "                              '\"2.0.3\", \"data\": \"model.xgb\", \"model_class\": '\n",
       "                              '\"xgboost.core.Booster\", \"model_format\": \"xgb\", '\n",
       "                              '\"code\": null}}, \"model_uuid\": '\n",
       "                              '\"f6778297d8714603b899f7bebd22ba66\", '\n",
       "                              '\"mlflow_version\": \"2.13.0\", \"model_size_bytes\": '\n",
       "                              '5516370}]',\n",
       "  'mlflow.runName': 'mysterious-cub-690',\n",
       "  'mlflow.source.name': '/home/codespace/anaconda3/envs/exp-tracking/lib/python3.12/site-packages/ipykernel_launcher.py',\n",
       "  'mlflow.source.type': 'LOCAL',\n",
       "  'mlflow.user': 'codespace'}>, info=<RunInfo: artifact_uri='mlflow-artifacts:/2/d031ab694f7f4a76988537cd5f7594ce/artifacts', end_time=1716600451439, experiment_id='2', lifecycle_stage='active', run_id='d031ab694f7f4a76988537cd5f7594ce', run_name='mysterious-cub-690', run_uuid='d031ab694f7f4a76988537cd5f7594ce', start_time=1716600432324, status='FINISHED', user_id='codespace'>, inputs=<RunInputs: dataset_inputs=[]>>,\n",
       " <Run: data=<RunData: metrics={'rmse': 6.1477211725611305}, params={'learning_rate': '0.07755880320609634',\n",
       "  'max_depth': '10',\n",
       "  'min_child_weight': '3.7126270987128547',\n",
       "  'objective': 'reg:linear',\n",
       "  'reg_alpha': '0.028088122108329037',\n",
       "  'reg_lambda': '0.013125534079775656',\n",
       "  'seed': '42'}, tags={'mlflow.runName': 'debonair-gnu-879',\n",
       "  'mlflow.source.name': '/home/codespace/anaconda3/envs/exp-tracking/lib/python3.12/site-packages/ipykernel_launcher.py',\n",
       "  'mlflow.source.type': 'LOCAL',\n",
       "  'mlflow.user': 'codespace'}>, info=<RunInfo: artifact_uri='mlflow-artifacts:/2/8d528c7f662549438fda7ceacd003690/artifacts', end_time=1716600384922, experiment_id='2', lifecycle_stage='active', run_id='8d528c7f662549438fda7ceacd003690', run_name='debonair-gnu-879', run_uuid='8d528c7f662549438fda7ceacd003690', start_time=1716600368090, status='FAILED', user_id='codespace'>, inputs=<RunInputs: dataset_inputs=[]>>,\n",
       " <Run: data=<RunData: metrics={'rmse': 6.1477211725611305}, params={'learning_rate': '0.07755880320609634',\n",
       "  'max_depth': '10',\n",
       "  'min_child_weight': '3.7126270987128547',\n",
       "  'objective': 'reg:linear',\n",
       "  'reg_alpha': '0.028088122108329037',\n",
       "  'reg_lambda': '0.013125534079775656',\n",
       "  'seed': '42'}, tags={'mlflow.log-model.history': '[{\"run_id\": \"c35283e3b91e4d47a6f494dc03cac887\", '\n",
       "                              '\"artifact_path\": \"models_mlflow\", '\n",
       "                              '\"utc_time_created\": \"2024-05-25 '\n",
       "                              '01:17:17.387308\", \"flavors\": {\"python_function\": '\n",
       "                              '{\"loader_module\": \"mlflow.xgboost\", '\n",
       "                              '\"python_version\": \"3.12.3\", \"data\": \"model.xgb\", '\n",
       "                              '\"env\": {\"conda\": \"conda.yaml\", \"virtualenv\": '\n",
       "                              '\"python_env.yaml\"}}, \"xgboost\": {\"xgb_version\": '\n",
       "                              '\"2.0.3\", \"data\": \"model.xgb\", \"model_class\": '\n",
       "                              '\"xgboost.core.Booster\", \"model_format\": \"xgb\", '\n",
       "                              '\"code\": null}}, \"model_uuid\": '\n",
       "                              '\"7d57c14b0da849ac971c5e63970b5455\", '\n",
       "                              '\"mlflow_version\": \"2.13.0\", \"model_size_bytes\": '\n",
       "                              '5516370}]',\n",
       "  'mlflow.runName': 'bold-foal-686',\n",
       "  'mlflow.source.name': '/home/codespace/anaconda3/envs/exp-tracking/lib/python3.12/site-packages/ipykernel_launcher.py',\n",
       "  'mlflow.source.type': 'LOCAL',\n",
       "  'mlflow.user': 'codespace'}>, info=<RunInfo: artifact_uri='mlflow-artifacts:/2/c35283e3b91e4d47a6f494dc03cac887/artifacts', end_time=1716599842220, experiment_id='2', lifecycle_stage='active', run_id='c35283e3b91e4d47a6f494dc03cac887', run_name='bold-foal-686', run_uuid='c35283e3b91e4d47a6f494dc03cac887', start_time=1716599818498, status='FINISHED', user_id='codespace'>, inputs=<RunInputs: dataset_inputs=[]>>,\n",
       " <Run: data=<RunData: metrics={'rmse': 6.1477211725611305}, params={'learning_rate': '0.07755880320609634',\n",
       "  'max_depth': '10',\n",
       "  'min_child_weight': '3.7126270987128547',\n",
       "  'objective': 'reg:linear',\n",
       "  'reg_alpha': '0.028088122108329037',\n",
       "  'reg_lambda': '0.013125534079775656',\n",
       "  'seed': '42'}, tags={'mlflow.runName': 'rogue-crab-435',\n",
       "  'mlflow.source.name': '/home/codespace/anaconda3/envs/exp-tracking/lib/python3.12/site-packages/ipykernel_launcher.py',\n",
       "  'mlflow.source.type': 'LOCAL',\n",
       "  'mlflow.user': 'codespace',\n",
       "  'model': 'xgboost'}>, info=<RunInfo: artifact_uri='mlflow-artifacts:/2/1187a6ae17f14217a1f643daf7254028/artifacts', end_time=1716517576935, experiment_id='2', lifecycle_stage='active', run_id='1187a6ae17f14217a1f643daf7254028', run_name='rogue-crab-435', run_uuid='1187a6ae17f14217a1f643daf7254028', start_time=1716517555850, status='FINISHED', user_id='codespace'>, inputs=<RunInputs: dataset_inputs=[]>>]"
      ]
     },
     "execution_count": 5,
     "metadata": {},
     "output_type": "execute_result"
    }
   ],
   "source": [
    "runs"
   ]
  },
  {
   "cell_type": "code",
   "execution_count": 45,
   "metadata": {},
   "outputs": [
    {
     "name": "stdout",
     "output_type": "stream",
     "text": [
      "run id: d031ab694f7f4a76988537cd5f7594ce, rmse: 6.1477\n",
      "run id: 8d528c7f662549438fda7ceacd003690, rmse: 6.1477\n",
      "run id: c35283e3b91e4d47a6f494dc03cac887, rmse: 6.1477\n",
      "run id: 1187a6ae17f14217a1f643daf7254028, rmse: 6.1477\n"
     ]
    }
   ],
   "source": [
    "for run in runs:\n",
    "    print(f\"run id: {run.info.run_id}, rmse: {run.data.metrics['rmse']:.4f}\" )\n",
    "    "
   ]
  },
  {
   "cell_type": "code",
   "execution_count": 17,
   "metadata": {},
   "outputs": [],
   "source": [
    "import mlflow\n",
    "mlflow.set_tracking_uri(mlflow_tracking_uri)"
   ]
  },
  {
   "cell_type": "code",
   "execution_count": 24,
   "metadata": {},
   "outputs": [
    {
     "data": {
      "text/plain": [
       "'runs:/d031ab694f7f4a76988537cd5f7594ce/model'"
      ]
     },
     "execution_count": 24,
     "metadata": {},
     "output_type": "execute_result"
    }
   ],
   "source": [
    "run_id = \"d031ab694f7f4a76988537cd5f7594ce\"\n",
    "model_uri = f\"runs:/{run_id}/model\"\n",
    "model_uri"
   ]
  },
  {
   "cell_type": "code",
   "execution_count": 25,
   "metadata": {},
   "outputs": [
    {
     "name": "stderr",
     "output_type": "stream",
     "text": [
      "Successfully registered model 'xgboost18'.\n",
      "2024/05/25 04:22:02 INFO mlflow.store.model_registry.abstract_store: Waiting up to 300 seconds for model version to finish creation. Model name: xgboost18, version 1\n",
      "Created version '1' of model 'xgboost18'.\n"
     ]
    },
    {
     "data": {
      "text/plain": [
       "<ModelVersion: aliases=[], creation_timestamp=1716610922932, current_stage='None', description='', last_updated_timestamp=1716610922932, name='xgboost18', run_id='d031ab694f7f4a76988537cd5f7594ce', run_link='', source='mlflow-artifacts:/2/d031ab694f7f4a76988537cd5f7594ce/artifacts/model', status='READY', status_message='', tags={}, user_id='', version='1'>"
      ]
     },
     "execution_count": 25,
     "metadata": {},
     "output_type": "execute_result"
    }
   ],
   "source": [
    "mlflow.register_model(model_uri=model_uri, name = \"xgboost18\")"
   ]
  },
  {
   "cell_type": "code",
   "execution_count": 46,
   "metadata": {},
   "outputs": [
    {
     "name": "stdout",
     "output_type": "stream",
     "text": [
      "version: 1, stage: Staging\n"
     ]
    },
    {
     "name": "stderr",
     "output_type": "stream",
     "text": [
      "/tmp/ipykernel_30739/2147323858.py:2: FutureWarning: ``mlflow.tracking.client.MlflowClient.get_latest_versions`` is deprecated since 2.9.0. Model registry stages will be removed in a future major release. To learn more about the deprecation of model registry stages, see our migration guide here: https://mlflow.org/docs/2.13.0/model-registry.html#migrating-from-stages\n",
      "  latest_versions = client.get_latest_versions(model_name)\n"
     ]
    }
   ],
   "source": [
    "model_name = 'xgboost1'\n",
    "latest_versions = client.get_latest_versions(model_name)\n",
    "\n",
    "for version in latest_versions:\n",
    "    print(f\"version: {version.version}, stage: {version.current_stage}\")"
   ]
  },
  {
   "cell_type": "code",
   "execution_count": 47,
   "metadata": {},
   "outputs": [
    {
     "name": "stderr",
     "output_type": "stream",
     "text": [
      "/tmp/ipykernel_30739/1846982282.py:1: FutureWarning: ``mlflow.tracking.client.MlflowClient.transition_model_version_stage`` is deprecated since 2.9.0. Model registry stages will be removed in a future major release. To learn more about the deprecation of model registry stages, see our migration guide here: https://mlflow.org/docs/2.13.0/model-registry.html#migrating-from-stages\n",
      "  client.transition_model_version_stage(\n"
     ]
    },
    {
     "data": {
      "text/plain": [
       "<ModelVersion: aliases=[], creation_timestamp=1716603396796, current_stage='Staging', description='', last_updated_timestamp=1716612195769, name='xgboost1', run_id='d031ab694f7f4a76988537cd5f7594ce', run_link='', source='mlflow-artifacts:/2/d031ab694f7f4a76988537cd5f7594ce/artifacts/models_mlflow', status='READY', status_message='', tags={}, user_id='', version='1'>"
      ]
     },
     "execution_count": 47,
     "metadata": {},
     "output_type": "execute_result"
    }
   ],
   "source": [
    "client.transition_model_version_stage(\n",
    "    name=model_name,\n",
    "    version=1,\n",
    "    stage='Staging',\n",
    "    archive_existing_versions=False\n",
    ")"
   ]
  },
  {
   "cell_type": "code",
   "execution_count": 48,
   "metadata": {},
   "outputs": [
    {
     "data": {
      "text/plain": [
       "datetime.date(2024, 5, 25)"
      ]
     },
     "execution_count": 48,
     "metadata": {},
     "output_type": "execute_result"
    }
   ],
   "source": [
    "from datetime import datetime\n",
    "\n",
    "dt = datetime.today().date()\n",
    "dt"
   ]
  },
  {
   "cell_type": "code",
   "execution_count": 49,
   "metadata": {},
   "outputs": [
    {
     "data": {
      "text/plain": [
       "<ModelVersion: aliases=[], creation_timestamp=1716603396796, current_stage='Staging', description='The model version 4 was transitioned to Staging on 2024-05-25', last_updated_timestamp=1716612200892, name='xgboost1', run_id='d031ab694f7f4a76988537cd5f7594ce', run_link='', source='mlflow-artifacts:/2/d031ab694f7f4a76988537cd5f7594ce/artifacts/models_mlflow', status='READY', status_message='', tags={}, user_id='', version='1'>"
      ]
     },
     "execution_count": 49,
     "metadata": {},
     "output_type": "execute_result"
    }
   ],
   "source": [
    "\n",
    "client.update_model_version(\n",
    "    name=model_name,\n",
    "    version=1,\n",
    "    description = f\"The model version 4 was transitioned to Staging on {dt}\"\n",
    "    \n",
    ")"
   ]
  },
  {
   "cell_type": "code",
   "execution_count": 62,
   "metadata": {},
   "outputs": [],
   "source": [
    "def read_dataFrame(filename):\n",
    "    df = pd.read_parquet(filename)\n",
    "    df['duration'] = df.lpep_dropoff_datetime - df.lpep_pickup_datetime\n",
    "    df.duration = df.duration.apply(lambda td: td.total_seconds()/60)\n",
    "    df = df[(df.duration >=1) & (df.duration <=60)]\n",
    "    categorical = ['PULocationID','DOLocationID']\n",
    "    df[categorical] = df[categorical].astype(str)\n",
    "    \n",
    "    return df\n",
    "\n",
    "def preprocessor(df,dv):\n",
    "    df['PU_DO'] = df['PULocationID'] + '_' + df['DOLocationID']\n",
    "    categorical = ['PU_DO']\n",
    "    numerical = ['trip_distance']\n",
    "    train_dicts = df[categorical + numerical].to_dict(orient='records')\n",
    "    return dv.transform(train_dicts)\n",
    "\n",
    "def test_model(name,stage, X_test, y_test):\n",
    "    model = mlflow.pyfunc.load_model(f\"models:/{name}/{stage}\")\n",
    "    y_pred = model.predict(X_test)\n",
    "    return {\"rmse\": root_mean_squared_error(y_test, y_pred)}"
   ]
  },
  {
   "cell_type": "code",
   "execution_count": 21,
   "metadata": {},
   "outputs": [],
   "source": [
    "import pandas as pd\n",
    "df_test = read_dataFrame('https://d37ci6vzurychx.cloudfront.net/trip-data/green_tripdata_2021-03.parquet')"
   ]
  },
  {
   "cell_type": "code",
   "execution_count": 51,
   "metadata": {},
   "outputs": [
    {
     "data": {
      "application/vnd.jupyter.widget-view+json": {
       "model_id": "b03b48b8f5474b1cba3e331a6b5f6fb3",
       "version_major": 2,
       "version_minor": 0
      },
      "text/plain": [
       "Downloading artifacts:   0%|          | 0/1 [00:00<?, ?it/s]"
      ]
     },
     "metadata": {},
     "output_type": "display_data"
    },
    {
     "data": {
      "text/plain": [
       "'/workspaces/mlops-zoomcamp-arun/01-intro/03-training/experiment-tracking/preprocessor'"
      ]
     },
     "execution_count": 51,
     "metadata": {},
     "output_type": "execute_result"
    }
   ],
   "source": [
    "client.download_artifacts(\n",
    "    run_id = run_id,\n",
    "    path ='preprocessor',\n",
    "    dst_path = '.'\n",
    ")"
   ]
  },
  {
   "cell_type": "code",
   "execution_count": 59,
   "metadata": {},
   "outputs": [],
   "source": [
    "import pickle\n",
    "from sklearn.metrics import root_mean_squared_error\n",
    "\n",
    "with open('preprocessor/preprocessor.b', 'rb') as f_in:\n",
    "    dv = pickle.load(f_in)"
   ]
  },
  {
   "cell_type": "code",
   "execution_count": 53,
   "metadata": {},
   "outputs": [],
   "source": [
    "X_test = preprocessor(df_test,dv)"
   ]
  },
  {
   "cell_type": "code",
   "execution_count": 54,
   "metadata": {},
   "outputs": [],
   "source": [
    "target = 'duration'\n",
    "y_test = df_test[target].values"
   ]
  },
  {
   "cell_type": "code",
   "execution_count": 63,
   "metadata": {},
   "outputs": [
    {
     "data": {
      "application/vnd.jupyter.widget-view+json": {
       "model_id": "9c75bce4df674e6a8ea030b86f98cb5c",
       "version_major": 2,
       "version_minor": 0
      },
      "text/plain": [
       "Downloading artifacts:   0%|          | 0/9 [00:00<?, ?it/s]"
      ]
     },
     "metadata": {},
     "output_type": "display_data"
    },
    {
     "name": "stderr",
     "output_type": "stream",
     "text": [
      "/home/codespace/anaconda3/envs/exp-tracking/lib/python3.12/site-packages/xgboost/core.py:160: UserWarning: [04:46:23] WARNING: /workspace/src/objective/regression_obj.cu:209: reg:linear is now deprecated in favor of reg:squarederror.\n",
      "  warnings.warn(smsg, UserWarning)\n"
     ]
    },
    {
     "name": "stdout",
     "output_type": "stream",
     "text": [
      "CPU times: user 7.56 s, sys: 72.5 ms, total: 7.63 s\n",
      "Wall time: 4.66 s\n"
     ]
    },
    {
     "data": {
      "text/plain": [
       "{'rmse': 6.856105855294579}"
      ]
     },
     "execution_count": 63,
     "metadata": {},
     "output_type": "execute_result"
    }
   ],
   "source": [
    "%time test_model(name=model_name, stage='Staging', X_test=X_test, y_test=y_test)"
   ]
  },
  {
   "cell_type": "code",
   "execution_count": null,
   "metadata": {},
   "outputs": [],
   "source": []
  }
 ],
 "metadata": {
  "kernelspec": {
   "display_name": "Python 3",
   "language": "python",
   "name": "python3"
  },
  "language_info": {
   "codemirror_mode": {
    "name": "ipython",
    "version": 3
   },
   "file_extension": ".py",
   "mimetype": "text/x-python",
   "name": "python",
   "nbconvert_exporter": "python",
   "pygments_lexer": "ipython3",
   "version": "3.12.3"
  }
 },
 "nbformat": 4,
 "nbformat_minor": 2
}
